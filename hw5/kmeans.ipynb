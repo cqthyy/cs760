{
  "nbformat": 4,
  "nbformat_minor": 0,
  "metadata": {
    "colab": {
      "provenance": []
    },
    "kernelspec": {
      "name": "python3",
      "display_name": "Python 3"
    },
    "language_info": {
      "name": "python"
    }
  },
  "cells": [
    {
      "cell_type": "code",
      "source": [
        "import numpy as np\n",
        "import math"
      ],
      "metadata": {
        "id": "QfYreFqYvQM2"
      },
      "execution_count": null,
      "outputs": []
    },
    {
      "cell_type": "code",
      "execution_count": null,
      "metadata": {
        "id": "DSLy6fsAusz6"
      },
      "outputs": [],
      "source": [
        "def generate_dataset_by_sigma(sigma):\n",
        "  mu = [-1, -1]\n",
        "  sigma = sigma * np.array([[2, 0.5],\n",
        "                            [0.5, 1]])\n",
        "  p_A = np.random.multivariate_normal(mu, sigma, 100)\n",
        "\n",
        "  mu = [1, -1]\n",
        "  sigma = sigma * np.array([[1, -0.5],\n",
        "                            [-0.5, 2]])\n",
        "  p_B = np.random.multivariate_normal(mu, sigma, 100)\n",
        "\n",
        "  mu = [0, 1]\n",
        "  sigma = sigma * np.array([[1, 0],\n",
        "                            [0, 2]])\n",
        "  p_C = np.random.multivariate_normal(mu, sigma, 100)\n",
        "\n",
        "  return np.concatenate((p_A, p_B, p_C))"
      ]
    },
    {
      "cell_type": "code",
      "source": [
        "dataset_1 = generate_dataset_by_sigma(0.5)\n",
        "dataset_2 = generate_dataset_by_sigma(1)\n",
        "dataset_3 = generate_dataset_by_sigma(2)\n",
        "dataset_4 = generate_dataset_by_sigma(4)\n",
        "dataset_5 = generate_dataset_by_sigma(8)\n",
        "dataset_1.shape"
      ],
      "metadata": {
        "id": "TR771a4AvcyR",
        "colab": {
          "base_uri": "https://localhost:8080/"
        },
        "outputId": "ed9c5fdf-5f86-4b20-f8e9-c4ba013d5d3d"
      },
      "execution_count": null,
      "outputs": [
        {
          "output_type": "execute_result",
          "data": {
            "text/plain": [
              "(300, 2)"
            ]
          },
          "metadata": {},
          "execution_count": 3
        }
      ]
    },
    {
      "cell_type": "code",
      "source": [],
      "metadata": {
        "id": "R41sT4tOiII9"
      },
      "execution_count": null,
      "outputs": []
    },
    {
      "cell_type": "code",
      "source": [
        "def do_point_assignments(X, rows, k, classifications, centres):\n",
        "  for i in range(0, rows):\n",
        "      distances = np.zeros(k)\n",
        "      for j in range(0, k):\n",
        "        distances[j] = np.sqrt(np.sum(np.power(X[i, :] - centres[j], 2)))\n",
        "      classifications[i] = np.argmin(distances)\n",
        "  return classifications"
      ],
      "metadata": {
        "id": "lqn6GNCdf4hw"
      },
      "execution_count": null,
      "outputs": []
    },
    {
      "cell_type": "code",
      "source": [
        "def find_new_centres(X, cols, classifications, k, centres):\n",
        "  new_centres = np.zeros((k, cols))\n",
        "  new_loss = 0\n",
        "  for j in range(0, k):\n",
        "      # compute centres\n",
        "      J = np.where(classifications == j)\n",
        "      X_C = X[J]\n",
        "      new_centres[j] = X_C.mean(axis = 0)\n",
        "\n",
        "      # Compute loss\n",
        "      for i in range(0, X_C.shape[0]):\n",
        "        new_loss += np.sum(np.power(X_C[i, :] - centres[j], 2))\n",
        "  return new_centres, new_loss"
      ],
      "metadata": {
        "id": "JDfps08agXoH"
      },
      "execution_count": null,
      "outputs": []
    },
    {
      "cell_type": "code",
      "source": [
        "import numpy as np\n",
        "import matplotlib.pyplot as plt\n",
        "\n",
        "# Lloyds algorithm for k-means\n",
        "def kmeans(X, k, max_iter = 100, tolerance = 10**(-3)):\n",
        "  rows = X.shape[0]\n",
        "  cols = X.shape[1]\n",
        "  classifications = np.zeros(rows, dtype = np.int64)\n",
        "\n",
        "  # random starting cluster centers\n",
        "  indices = np.random.randint(0, high=X.shape[0], size=(1, k), dtype=int).tolist()\n",
        "  centres = X[indices[0]]\n",
        "\n",
        "  loss = 0\n",
        "  for m in range(0, max_iter):\n",
        "    # do the point assignments\n",
        "    classifications = do_point_assignments(X, rows, k, classifications, centres)\n",
        "    print(\"classifications: \", classifications)\n",
        "\n",
        "    # Compute the new centres and new loss\n",
        "    new_centres, new_loss = find_new_centres(X, cols, classifications, k, centres)\n",
        "\n",
        "    # Stopping criterion\n",
        "    if np.abs(loss - new_loss) < tolerance:\n",
        "      return classifications, new_centres, new_loss\n",
        "\n",
        "    centres = new_centres\n",
        "    loss = new_loss\n",
        "\n",
        "  print(\"Failed to converge!\")\n",
        "  return classifications, centres, loss"
      ],
      "metadata": {
        "id": "SqMMnk0ty2Tu"
      },
      "execution_count": null,
      "outputs": []
    },
    {
      "cell_type": "code",
      "source": [
        "kmeans(dataset_1, 5)"
      ],
      "metadata": {
        "colab": {
          "base_uri": "https://localhost:8080/"
        },
        "id": "FtXJKq3VgxMV",
        "outputId": "aa82d6a4-5863-4b43-979f-c84b49190e2d"
      },
      "execution_count": null,
      "outputs": [
        {
          "output_type": "stream",
          "name": "stdout",
          "text": [
            "classifications:  [2 2 2 2 2 2 2 2 2 3 2 2 2 2 2 2 2 2 0 2 1 2 1 2 2 2 2 2 2 2 2 2 2 2 0 2 2\n",
            " 2 2 2 2 2 1 2 2 2 2 2 2 2 2 2 1 2 2 2 3 2 2 2 2 2 2 2 2 2 2 1 2 2 2 1 2 2\n",
            " 2 2 2 2 2 2 2 2 2 1 2 2 2 2 1 2 1 2 1 2 2 2 2 2 2 2 0 1 1 0 0 0 0 0 2 0 1\n",
            " 1 0 0 0 1 3 1 3 0 1 1 3 1 0 1 1 2 0 0 0 0 1 0 0 0 0 2 0 3 1 1 2 1 0 0 0 0\n",
            " 1 0 1 0 0 1 3 0 0 1 0 0 0 1 0 1 1 2 1 0 1 1 0 1 3 0 0 0 0 1 0 0 1 0 1 0 0\n",
            " 0 0 1 1 1 0 0 0 0 1 0 0 3 0 1 1 1 3 1 4 3 1 4 3 4 4 2 3 2 1 3 4 3 3 3 2 3\n",
            " 2 3 0 4 3 2 2 1 2 2 3 4 3 4 4 2 1 3 4 3 0 2 2 2 3 2 2 2 3 3 2 4 3 3 4 4 1\n",
            " 4 4 4 4 3 4 2 0 4 2 4 2 4 4 4 4 3 4 2 2 3 4 2 2 2 2 0 4 4 2 3 2 1 0 2 2 4\n",
            " 3 2 1 4]\n",
            "classifications:  [2 2 2 2 2 2 2 2 2 3 2 1 2 2 2 2 2 2 0 2 1 2 1 2 2 2 2 1 1 2 2 1 2 2 0 2 2\n",
            " 2 2 2 2 2 1 2 2 2 2 2 2 2 2 2 1 2 2 2 3 1 2 2 2 2 2 2 2 2 1 1 2 2 2 3 2 2\n",
            " 2 2 2 2 2 2 1 2 2 1 2 2 2 2 1 2 1 2 1 1 1 2 2 2 2 2 1 1 1 0 0 0 0 0 1 0 1\n",
            " 0 0 0 3 1 3 1 3 0 1 1 3 1 0 1 0 1 0 0 0 0 1 0 0 0 0 2 0 3 1 1 2 1 0 0 0 0\n",
            " 1 1 1 0 0 0 3 0 0 1 0 0 1 1 1 1 1 1 1 0 1 0 0 1 3 0 1 0 1 1 0 0 1 0 1 0 0\n",
            " 0 0 3 1 1 0 0 0 0 1 0 0 3 0 0 1 1 3 1 4 3 1 4 3 4 4 2 3 2 1 3 4 3 3 3 1 3\n",
            " 2 3 0 4 3 2 4 3 2 2 3 4 3 4 4 2 1 3 4 3 1 1 4 1 3 2 2 2 3 3 2 4 3 3 4 4 1\n",
            " 4 4 4 4 3 4 1 1 4 1 4 1 4 4 4 4 3 4 1 2 3 4 2 2 4 2 0 4 4 2 3 2 1 0 2 2 4\n",
            " 3 2 1 4]\n",
            "classifications:  [2 2 2 2 2 2 2 2 2 3 2 1 2 2 1 1 2 2 0 2 1 2 1 2 2 2 2 1 1 2 2 1 2 2 0 2 2\n",
            " 2 1 2 2 2 1 2 2 2 2 2 2 2 2 2 1 2 2 2 3 1 2 2 2 2 2 2 2 2 2 1 2 2 2 3 2 2\n",
            " 2 2 2 2 2 2 1 2 2 1 2 2 2 2 1 2 1 2 1 1 1 2 2 2 2 2 1 1 1 0 0 0 0 0 1 0 1\n",
            " 0 0 0 3 1 3 1 3 0 1 1 3 1 0 1 0 1 0 0 0 0 1 0 0 0 3 2 0 3 1 1 2 1 0 0 0 0\n",
            " 1 1 1 0 0 0 3 0 1 1 0 0 1 1 0 1 1 1 1 0 1 0 0 1 3 0 1 0 0 1 0 0 1 0 1 0 0\n",
            " 0 0 3 0 0 0 0 0 0 1 0 0 3 0 0 1 1 3 1 4 3 1 4 3 4 4 4 3 1 1 3 4 3 3 3 1 3\n",
            " 1 3 0 4 3 2 4 3 1 1 3 4 3 4 4 2 1 3 4 3 1 1 4 1 3 2 2 2 3 3 1 4 3 3 4 4 1\n",
            " 4 4 4 4 3 4 1 1 4 1 4 1 4 4 4 4 3 4 1 2 3 4 1 1 4 2 0 4 4 2 3 1 1 0 2 2 4\n",
            " 3 4 1 4]\n",
            "classifications:  [2 2 2 2 1 2 2 2 2 3 2 1 2 2 1 1 2 2 0 2 1 2 0 2 2 2 2 1 1 2 2 2 1 2 0 2 2\n",
            " 2 1 2 2 2 1 2 2 2 1 1 2 2 2 1 1 2 2 2 3 1 1 2 2 2 2 2 2 2 2 1 2 2 1 3 2 2\n",
            " 2 2 2 2 2 2 1 2 2 1 2 2 2 2 1 2 1 2 1 1 1 2 2 2 2 1 1 1 1 0 0 0 0 0 1 0 1\n",
            " 0 0 0 3 1 3 1 3 0 1 1 3 1 0 1 0 1 0 0 0 0 1 0 0 0 3 2 0 3 1 1 1 1 0 0 0 0\n",
            " 0 3 1 0 0 0 3 0 1 1 0 0 1 0 0 1 1 1 1 0 1 0 0 1 3 0 1 0 0 1 0 0 1 0 1 0 0\n",
            " 0 0 3 0 0 0 0 0 0 1 0 0 3 0 0 1 1 3 1 4 4 1 4 3 4 4 1 3 1 1 3 4 3 3 3 1 3\n",
            " 1 3 0 4 3 2 4 3 1 1 3 4 3 4 4 1 1 3 4 3 1 1 4 1 3 1 2 2 3 3 1 4 3 3 4 4 1\n",
            " 4 4 4 4 3 4 1 1 4 1 4 1 4 4 4 4 3 4 1 2 3 4 1 1 4 2 0 4 4 2 3 1 1 0 2 2 4\n",
            " 3 4 1 4]\n",
            "classifications:  [2 2 2 2 1 2 2 2 2 3 2 1 1 2 1 1 2 2 0 2 1 2 0 1 2 2 1 1 1 2 2 2 1 2 0 2 2\n",
            " 2 1 2 2 2 1 2 2 2 1 1 2 2 2 1 1 2 2 2 3 1 1 2 2 2 2 2 2 2 2 1 2 2 1 1 2 2\n",
            " 2 2 2 2 2 2 1 1 2 1 2 2 2 2 1 2 1 2 1 1 1 2 2 1 2 1 0 1 1 0 0 0 0 0 1 0 1\n",
            " 0 0 0 3 0 3 1 3 0 1 0 3 1 0 1 0 1 0 0 0 0 1 0 0 0 3 2 0 3 1 1 1 1 0 0 0 0\n",
            " 0 3 1 0 0 0 3 0 0 1 0 0 1 0 0 1 1 1 1 0 1 0 0 1 3 0 1 0 0 1 0 0 1 0 1 0 0\n",
            " 0 0 3 0 0 0 0 0 0 1 0 0 3 0 0 1 1 3 1 4 4 1 4 3 4 4 1 3 1 1 4 4 3 3 3 1 3\n",
            " 1 3 0 4 3 2 4 3 1 1 3 4 3 4 4 1 1 3 4 3 1 1 4 1 3 1 2 2 3 3 1 4 3 3 4 4 1\n",
            " 4 4 4 4 3 4 1 3 4 1 4 1 4 4 4 4 3 4 1 2 3 4 1 1 4 1 0 4 4 1 3 1 1 0 2 2 4\n",
            " 3 4 1 4]\n",
            "classifications:  [2 2 2 2 1 2 1 2 2 3 2 1 1 2 1 1 2 2 0 2 1 2 0 1 2 2 1 1 1 2 2 2 1 2 0 2 2\n",
            " 2 1 2 2 2 1 2 2 2 1 1 2 2 2 1 0 2 2 2 3 1 1 1 2 2 1 2 2 2 2 1 2 2 1 1 2 2\n",
            " 2 2 2 2 2 2 1 1 2 3 2 2 2 2 1 2 1 2 1 1 1 2 2 1 2 1 0 1 1 0 0 0 0 0 1 0 1\n",
            " 0 0 0 3 0 3 1 3 0 1 0 3 1 0 1 0 1 0 0 0 0 1 0 0 0 3 2 0 3 1 1 1 1 0 0 0 0\n",
            " 0 3 1 0 0 0 3 0 0 1 0 0 3 0 0 1 1 1 1 0 1 0 0 1 3 0 3 0 0 1 0 0 1 0 1 0 0\n",
            " 0 0 3 0 0 0 0 0 3 1 0 0 3 0 0 1 1 3 1 4 4 1 4 3 4 4 1 3 1 1 4 4 3 3 3 1 3\n",
            " 1 3 0 4 3 2 4 3 1 1 3 4 3 4 4 1 1 4 4 3 3 1 4 1 3 1 2 2 3 3 1 4 3 3 4 4 1\n",
            " 4 4 4 4 3 4 1 3 4 1 4 1 4 4 4 4 3 4 1 2 3 4 1 1 4 1 0 4 4 1 3 1 1 0 2 2 4\n",
            " 3 4 1 4]\n",
            "classifications:  [2 2 2 2 1 2 1 2 2 3 2 1 1 2 1 1 2 2 0 2 1 2 0 1 2 2 1 1 1 2 2 2 1 2 0 2 2\n",
            " 2 1 2 2 2 1 2 2 2 1 1 2 2 2 1 0 2 2 2 3 1 1 1 2 2 1 2 2 2 2 1 2 2 1 3 2 2\n",
            " 1 2 2 2 2 2 1 1 2 3 2 2 2 2 1 2 1 2 1 1 1 2 2 1 2 1 0 1 1 0 0 0 0 0 1 0 1\n",
            " 0 0 0 3 0 3 1 3 0 1 0 3 1 0 1 0 1 0 0 0 0 1 0 0 0 3 2 0 3 0 1 1 1 0 0 0 0\n",
            " 0 3 1 0 0 0 3 0 3 1 0 0 3 0 0 1 0 1 1 0 1 0 0 1 3 0 3 0 0 1 0 0 1 0 1 0 0\n",
            " 0 0 3 0 0 0 0 0 3 1 0 0 3 0 0 1 1 3 1 4 4 1 4 3 4 4 1 3 1 1 4 4 3 3 3 1 3\n",
            " 1 3 0 4 3 2 4 3 1 1 3 4 3 4 4 1 1 4 4 3 3 1 4 1 3 1 2 2 3 3 1 4 3 3 4 4 1\n",
            " 4 4 4 4 3 4 1 3 4 1 4 1 4 4 4 4 3 4 1 2 3 4 1 1 4 1 0 4 4 1 3 1 1 0 2 2 4\n",
            " 3 4 1 4]\n",
            "classifications:  [2 2 2 2 1 2 1 2 2 3 2 1 1 2 1 1 2 2 0 1 1 1 0 1 2 2 1 1 1 2 2 2 1 2 0 2 2\n",
            " 2 1 2 2 2 1 2 1 2 1 1 2 2 2 1 0 2 2 2 3 1 1 1 2 2 1 2 2 2 2 1 2 2 1 3 2 2\n",
            " 1 2 2 2 2 2 1 1 2 3 2 2 2 1 1 2 1 2 1 1 1 2 2 1 2 1 0 1 1 0 0 0 0 0 1 0 1\n",
            " 0 0 0 3 0 3 1 3 0 1 0 3 1 0 1 0 1 0 0 0 0 0 0 0 0 3 2 0 3 0 1 1 1 0 0 0 0\n",
            " 0 3 1 0 0 0 3 0 3 1 0 0 3 0 0 1 0 1 1 0 1 0 0 1 3 0 3 0 0 1 0 0 1 0 1 0 0\n",
            " 0 0 3 0 0 0 0 0 3 1 0 0 3 0 0 1 1 3 1 4 4 1 4 3 4 4 1 3 1 1 4 4 3 3 3 1 3\n",
            " 1 3 0 4 3 2 4 3 1 1 3 4 3 4 4 1 1 4 4 3 3 1 4 1 3 1 2 2 3 3 1 4 3 3 4 4 1\n",
            " 4 4 4 4 3 4 1 3 4 1 4 1 4 4 4 4 3 4 1 2 3 4 1 1 4 1 0 4 4 1 3 1 1 0 2 2 4\n",
            " 3 4 1 4]\n",
            "classifications:  [2 2 2 2 1 2 1 2 2 3 2 1 1 2 1 1 2 2 0 1 1 1 0 1 2 2 1 1 1 2 2 2 1 2 0 2 2\n",
            " 2 1 2 2 2 1 2 1 2 1 1 2 2 2 1 0 2 2 2 3 1 1 1 2 2 1 2 2 2 2 1 2 2 1 3 2 2\n",
            " 1 2 2 2 2 2 1 1 2 3 2 1 2 1 1 2 1 2 1 1 1 2 2 1 2 1 0 1 1 0 0 0 0 0 1 0 1\n",
            " 0 0 0 3 0 3 1 3 0 0 0 3 1 0 1 0 1 0 0 0 0 0 0 0 0 3 2 0 3 0 1 1 1 0 0 0 0\n",
            " 0 3 1 0 0 0 3 0 3 1 0 0 3 0 0 1 0 1 1 0 1 0 0 1 3 0 3 0 0 1 0 0 1 0 1 0 0\n",
            " 0 0 3 0 0 0 0 0 3 1 0 0 3 0 0 1 1 3 1 4 4 1 4 3 4 4 1 3 1 1 4 4 3 3 3 1 3\n",
            " 1 3 0 4 3 2 4 3 1 1 3 4 3 4 4 1 1 4 4 3 3 1 4 1 3 1 2 2 3 3 1 4 3 3 4 4 1\n",
            " 4 4 4 4 3 4 1 3 4 1 4 1 4 4 4 4 3 4 1 2 3 4 1 1 4 1 0 4 4 1 3 1 1 0 2 2 4\n",
            " 3 4 1 4]\n",
            "classifications:  [2 2 2 2 1 2 1 2 2 3 2 1 1 2 1 1 2 2 0 1 1 1 0 1 2 2 1 1 1 2 2 2 1 2 0 2 2\n",
            " 2 1 2 2 2 1 2 1 2 1 1 2 2 2 1 0 2 2 2 3 1 1 1 2 2 1 2 2 2 2 1 2 2 1 3 2 2\n",
            " 1 2 2 2 2 2 1 1 2 3 2 1 2 1 1 2 1 2 1 1 1 2 2 1 2 1 0 1 1 0 0 0 0 0 1 0 1\n",
            " 0 0 0 3 0 3 1 3 0 0 0 3 1 0 1 0 1 0 0 0 0 0 0 0 0 3 2 0 3 0 1 1 1 0 0 0 0\n",
            " 0 3 1 0 0 0 3 0 3 1 0 0 3 0 0 1 0 1 1 0 1 0 0 1 3 0 3 0 0 1 0 0 1 0 1 0 0\n",
            " 0 0 3 0 0 0 0 0 3 1 0 0 3 0 0 1 1 3 0 4 4 1 4 3 4 4 1 3 1 1 4 4 3 3 3 1 3\n",
            " 1 3 0 4 3 2 4 3 1 1 3 4 3 4 4 1 1 4 4 3 3 1 4 1 3 1 2 2 3 3 1 4 3 3 4 4 1\n",
            " 4 4 4 4 3 4 1 3 4 1 4 1 4 4 4 4 3 4 1 2 3 4 1 1 4 1 0 4 4 1 3 1 1 0 2 2 4\n",
            " 3 4 1 4]\n",
            "classifications:  [2 2 2 2 1 2 1 2 2 3 2 1 1 2 1 1 2 2 0 1 1 1 0 1 2 2 1 1 1 2 2 2 1 2 0 2 2\n",
            " 2 1 2 2 2 1 2 1 2 1 1 2 2 2 1 0 2 2 2 3 1 1 1 2 2 1 2 2 2 2 1 2 2 1 3 2 2\n",
            " 1 2 2 2 2 2 1 1 2 3 2 1 2 1 1 2 1 2 1 1 1 2 2 1 2 1 0 1 1 0 0 0 0 0 1 0 1\n",
            " 0 0 0 3 0 3 1 3 0 0 0 3 1 0 1 0 1 0 0 0 0 0 0 0 0 3 2 0 3 0 1 1 1 0 0 0 0\n",
            " 0 3 1 0 0 0 3 0 3 1 0 0 3 0 0 1 0 1 1 0 1 0 0 1 3 0 3 0 0 1 0 0 1 0 1 0 0\n",
            " 0 0 3 0 0 0 0 0 3 1 0 0 3 0 0 1 1 3 0 4 4 1 4 3 4 4 1 3 1 1 4 4 3 3 3 1 3\n",
            " 1 3 0 4 3 2 4 3 1 1 3 4 3 4 4 1 1 4 4 3 3 1 4 1 3 1 2 2 3 3 1 4 3 3 4 4 1\n",
            " 4 4 4 4 3 4 1 3 4 1 4 1 4 4 4 4 3 4 1 2 3 4 1 1 4 1 0 4 4 1 3 1 1 0 2 2 4\n",
            " 3 4 1 4]\n",
            "classifications:  [2 2 2 2 1 2 1 2 2 3 2 1 1 2 1 1 2 2 0 1 1 1 0 1 2 2 1 1 1 2 2 2 1 2 0 2 2\n",
            " 2 1 2 2 2 1 2 1 2 1 1 2 2 2 1 0 2 2 2 3 1 1 1 2 2 1 2 2 2 2 1 2 2 1 3 2 2\n",
            " 1 2 2 2 2 2 1 1 2 3 2 1 2 1 1 2 1 2 1 1 1 2 2 1 2 1 0 1 1 0 0 0 0 0 1 0 1\n",
            " 0 0 0 3 0 3 1 3 0 0 0 3 1 0 1 0 1 0 0 0 0 0 0 0 0 3 2 0 3 0 1 1 1 0 0 0 0\n",
            " 0 3 1 0 0 0 3 0 3 1 0 0 3 0 0 1 0 1 1 0 1 0 0 1 3 0 3 0 0 1 0 0 1 0 1 0 0\n",
            " 0 0 3 0 0 0 0 0 3 1 0 0 3 0 0 1 1 3 0 4 4 1 4 3 4 4 1 3 1 1 4 4 3 3 3 1 3\n",
            " 1 3 0 4 3 2 4 3 1 1 3 4 3 4 4 1 1 4 4 3 3 1 4 1 3 1 2 2 3 3 1 4 3 3 4 4 1\n",
            " 4 4 4 4 3 4 1 3 4 1 4 1 4 4 4 4 3 4 1 2 3 4 1 1 4 1 0 4 4 1 3 1 1 0 2 2 4\n",
            " 3 4 1 4]\n"
          ]
        },
        {
          "output_type": "execute_result",
          "data": {
            "text/plain": [
              "(array([2, 2, 2, 2, 1, 2, 1, 2, 2, 3, 2, 1, 1, 2, 1, 1, 2, 2, 0, 1, 1, 1,\n",
              "        0, 1, 2, 2, 1, 1, 1, 2, 2, 2, 1, 2, 0, 2, 2, 2, 1, 2, 2, 2, 1, 2,\n",
              "        1, 2, 1, 1, 2, 2, 2, 1, 0, 2, 2, 2, 3, 1, 1, 1, 2, 2, 1, 2, 2, 2,\n",
              "        2, 1, 2, 2, 1, 3, 2, 2, 1, 2, 2, 2, 2, 2, 1, 1, 2, 3, 2, 1, 2, 1,\n",
              "        1, 2, 1, 2, 1, 1, 1, 2, 2, 1, 2, 1, 0, 1, 1, 0, 0, 0, 0, 0, 1, 0,\n",
              "        1, 0, 0, 0, 3, 0, 3, 1, 3, 0, 0, 0, 3, 1, 0, 1, 0, 1, 0, 0, 0, 0,\n",
              "        0, 0, 0, 0, 3, 2, 0, 3, 0, 1, 1, 1, 0, 0, 0, 0, 0, 3, 1, 0, 0, 0,\n",
              "        3, 0, 3, 1, 0, 0, 3, 0, 0, 1, 0, 1, 1, 0, 1, 0, 0, 1, 3, 0, 3, 0,\n",
              "        0, 1, 0, 0, 1, 0, 1, 0, 0, 0, 0, 3, 0, 0, 0, 0, 0, 3, 1, 0, 0, 3,\n",
              "        0, 0, 1, 1, 3, 0, 4, 4, 1, 4, 3, 4, 4, 1, 3, 1, 1, 4, 4, 3, 3, 3,\n",
              "        1, 3, 1, 3, 0, 4, 3, 2, 4, 3, 1, 1, 3, 4, 3, 4, 4, 1, 1, 4, 4, 3,\n",
              "        3, 1, 4, 1, 3, 1, 2, 2, 3, 3, 1, 4, 3, 3, 4, 4, 1, 4, 4, 4, 4, 3,\n",
              "        4, 1, 3, 4, 1, 4, 1, 4, 4, 4, 4, 3, 4, 1, 2, 3, 4, 1, 1, 4, 1, 0,\n",
              "        4, 4, 1, 3, 1, 1, 0, 2, 2, 4, 3, 4, 1, 4]),\n",
              " array([[ 1.39484772, -1.36729257],\n",
              "        [-0.34502407, -0.38777857],\n",
              "        [-1.77345549, -1.3573441 ],\n",
              "        [ 1.1278596 ,  0.76273006],\n",
              "        [-0.5356606 ,  2.00180314]]),\n",
              " 253.90946772768092)"
            ]
          },
          "metadata": {},
          "execution_count": 7
        }
      ]
    },
    {
      "cell_type": "code",
      "source": [],
      "metadata": {
        "id": "A9rKjGHsgzFs"
      },
      "execution_count": null,
      "outputs": []
    }
  ]
}